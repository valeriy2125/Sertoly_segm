{
 "cells": [
  {
   "cell_type": "code",
   "execution_count": 2,
   "id": "3e788952",
   "metadata": {},
   "outputs": [
    {
     "data": {
      "text/plain": [
       "'C:\\\\Users\\\\Валера'"
      ]
     },
     "execution_count": 2,
     "metadata": {},
     "output_type": "execute_result"
    }
   ],
   "source": [
    "import os\n",
    "import numpy as np\n",
    "import cv2\n",
    "from matplotlib import pyplot as plt\n",
    "os.getcwd()"
   ]
  },
  {
   "cell_type": "code",
   "execution_count": 2,
   "id": "92f61bdc",
   "metadata": {},
   "outputs": [
    {
     "data": {
      "text/plain": [
       "['NN_Mark_and_Find_001_Pos001_S001_z0_ch00.tif',\n",
       " 'NN_Mark_and_Find_001_Pos001_S001_z0_ch01.tif',\n",
       " 'NN_Mark_and_Find_001_Pos002_S001_z0_ch00.tif',\n",
       " 'NN_Mark_and_Find_001_Pos002_S001_z0_ch01.tif',\n",
       " 'NN_Mark_and_Find_001_Pos003_S001_z0_ch00.tif',\n",
       " 'NN_Mark_and_Find_001_Pos003_S001_z0_ch01.tif',\n",
       " 'NN_Mark_and_Find_001_Pos004_S001_z0_ch00.tif',\n",
       " 'NN_Mark_and_Find_001_Pos004_S001_z0_ch01.tif',\n",
       " 'NN_Mark_and_Find_002_Pos001_S001_z0_ch00.tif',\n",
       " 'NN_Mark_and_Find_002_Pos001_S001_z0_ch01.tif',\n",
       " 'NN_Mark_and_Find_002_Pos002_S001_z0_ch00.tif',\n",
       " 'NN_Mark_and_Find_002_Pos002_S001_z0_ch01.tif',\n",
       " 'NN_Mark_and_Find_002_Pos003_S001_z0_ch00.tif',\n",
       " 'NN_Mark_and_Find_002_Pos003_S001_z0_ch01.tif',\n",
       " 'NN_Mark_and_Find_002_Pos004_S001_z0_ch00.tif',\n",
       " 'NN_Mark_and_Find_002_Pos004_S001_z0_ch01.tif',\n",
       " 'NN_Mark_and_Find_002_Pos005_S001_z0_ch00.tif',\n",
       " 'NN_Mark_and_Find_002_Pos005_S001_z0_ch01.tif',\n",
       " 'NN_Mark_and_Find_002_Pos006_S001_z0_ch00.tif',\n",
       " 'NN_Mark_and_Find_002_Pos006_S001_z0_ch01.tif',\n",
       " 'NN_Mark_and_Find_002_Pos007_S001_z0_ch00.tif',\n",
       " 'NN_Mark_and_Find_002_Pos007_S001_z0_ch01.tif',\n",
       " 'NN_Mark_and_Find_002_Pos008_S001_z0_ch00.tif',\n",
       " 'NN_Mark_and_Find_002_Pos008_S001_z0_ch01.tif',\n",
       " 'NN_Mark_and_Find_002_Pos009_S001_z0_ch00.tif',\n",
       " 'NN_Mark_and_Find_002_Pos009_S001_z0_ch01.tif',\n",
       " 'NN_Mark_and_Find_002_Pos010_S001_z0_ch00.tif',\n",
       " 'NN_Mark_and_Find_002_Pos010_S001_z0_ch01.tif',\n",
       " 'NN_Mark_and_Find_002_Pos011_S001_z0_ch00.tif',\n",
       " 'NN_Mark_and_Find_002_Pos011_S001_z0_ch01.tif',\n",
       " 'NN_Mark_and_Find_002_Pos012_S001_z0_ch00.tif',\n",
       " 'NN_Mark_and_Find_002_Pos012_S001_z0_ch01.tif',\n",
       " 'NN_Mark_and_Find_002_Pos013_S001_z0_ch00.tif',\n",
       " 'NN_Mark_and_Find_002_Pos013_S001_z0_ch01.tif',\n",
       " 'NN_Mark_and_Find_002_Pos014_S001_z0_ch00.tif',\n",
       " 'NN_Mark_and_Find_002_Pos014_S001_z0_ch01.tif',\n",
       " 'NN_Mark_and_Find_002_Pos015_S001_z0_ch00.tif',\n",
       " 'NN_Mark_and_Find_002_Pos015_S001_z0_ch01.tif',\n",
       " 'NN_Mark_and_Find_002_Pos016_S001_z0_ch00.tif',\n",
       " 'NN_Mark_and_Find_002_Pos016_S001_z0_ch01.tif',\n",
       " 'NN_Mark_and_Find_002_Pos017_S001_z0_ch00.tif',\n",
       " 'NN_Mark_and_Find_002_Pos017_S001_z0_ch01.tif',\n",
       " 'NN_Mark_and_Find_003_Pos001_S001_z0_ch00.tif',\n",
       " 'NN_Mark_and_Find_003_Pos001_S001_z0_ch01.tif',\n",
       " 'NN_Mark_and_Find_003_Pos002_S001_z0_ch00.tif',\n",
       " 'NN_Mark_and_Find_003_Pos002_S001_z0_ch01.tif',\n",
       " 'NN_Mark_and_Find_003_Pos003_S001_z0_ch00.tif',\n",
       " 'NN_Mark_and_Find_003_Pos003_S001_z0_ch01.tif',\n",
       " 'NN_Mark_and_Find_003_Pos004_S001_z0_ch00.tif',\n",
       " 'NN_Mark_and_Find_003_Pos004_S001_z0_ch01.tif',\n",
       " 'NN_Mark_and_Find_003_Pos005_S001_z0_ch00.tif',\n",
       " 'NN_Mark_and_Find_003_Pos005_S001_z0_ch01.tif',\n",
       " 'NN_Mark_and_Find_003_Pos006_S001_z0_ch00.tif',\n",
       " 'NN_Mark_and_Find_003_Pos006_S001_z0_ch01.tif',\n",
       " 'NN_Mark_and_Find_003_Pos007_S001_z0_ch00.tif',\n",
       " 'NN_Mark_and_Find_003_Pos007_S001_z0_ch01.tif',\n",
       " 'NN_Mark_and_Find_003_Pos008_S001_z0_ch00.tif',\n",
       " 'NN_Mark_and_Find_003_Pos008_S001_z0_ch01.tif',\n",
       " 'NN_Mark_and_Find_003_Pos009_S001_z0_ch00.tif',\n",
       " 'NN_Mark_and_Find_003_Pos009_S001_z0_ch01.tif',\n",
       " 'NN_Mark_and_Find_003_Pos010_S001_z0_ch00.tif',\n",
       " 'NN_Mark_and_Find_003_Pos010_S001_z0_ch01.tif',\n",
       " 'NN_Mark_and_Find_003_Pos011_S001_z0_ch00.tif',\n",
       " 'NN_Mark_and_Find_003_Pos011_S001_z0_ch01.tif',\n",
       " 'NN_Mark_and_Find_003_Pos012_S001_z0_ch00.tif',\n",
       " 'NN_Mark_and_Find_003_Pos012_S001_z0_ch01.tif',\n",
       " 'NN_Mark_and_Find_003_Pos013_S001_z0_ch00.tif',\n",
       " 'NN_Mark_and_Find_003_Pos013_S001_z0_ch01.tif',\n",
       " 'NN_Mark_and_Find_003_Pos014_S001_z0_ch00.tif',\n",
       " 'NN_Mark_and_Find_003_Pos014_S001_z0_ch01.tif',\n",
       " 'NN_Mark_and_Find_003_Pos015_S001_z0_ch00.tif',\n",
       " 'NN_Mark_and_Find_003_Pos015_S001_z0_ch01.tif',\n",
       " 'NN_Mark_and_Find_003_Pos016_S001_z0_ch00.tif',\n",
       " 'NN_Mark_and_Find_003_Pos016_S001_z0_ch01.tif',\n",
       " 'NN_Mark_and_Find_003_Pos017_S001_z0_ch00.tif',\n",
       " 'NN_Mark_and_Find_003_Pos017_S001_z0_ch01.tif',\n",
       " 'NN_Mark_and_Find_003_Pos018_S001_z0_ch00.tif',\n",
       " 'NN_Mark_and_Find_003_Pos018_S001_z0_ch01.tif',\n",
       " 'NN_Mark_and_Find_003_Pos019_S001_z0_ch00.tif',\n",
       " 'NN_Mark_and_Find_003_Pos019_S001_z0_ch01.tif',\n",
       " 'NN_Mark_and_Find_003_Pos020_S001_z0_ch00.tif',\n",
       " 'NN_Mark_and_Find_003_Pos020_S001_z0_ch01.tif',\n",
       " 'NN_Mark_and_Find_004_Pos001_S001_z0_ch00.tif',\n",
       " 'NN_Mark_and_Find_004_Pos001_S001_z0_ch01.tif',\n",
       " 'NN_Mark_and_Find_004_Pos002_S001_z0_ch00.tif',\n",
       " 'NN_Mark_and_Find_004_Pos002_S001_z0_ch01.tif',\n",
       " 'NN_Mark_and_Find_004_Pos003_S001_z0_ch00.tif',\n",
       " 'NN_Mark_and_Find_004_Pos003_S001_z0_ch01.tif',\n",
       " 'NN_Mark_and_Find_004_Pos004_S001_z0_ch00.tif',\n",
       " 'NN_Mark_and_Find_004_Pos004_S001_z0_ch01.tif',\n",
       " 'NN_Mark_and_Find_004_Pos005_S001_z0_ch00.tif',\n",
       " 'NN_Mark_and_Find_004_Pos005_S001_z0_ch01.tif',\n",
       " 'NN_Mark_and_Find_004_Pos006_S001_z0_ch00.tif',\n",
       " 'NN_Mark_and_Find_004_Pos006_S001_z0_ch01.tif']"
      ]
     },
     "execution_count": 2,
     "metadata": {},
     "output_type": "execute_result"
    }
   ],
   "source": [
    "path = 'C:\\\\Users\\\\Валера\\\\DB'\n",
    "os.listdir(path)\n"
   ]
  },
  {
   "cell_type": "code",
   "execution_count": 7,
   "id": "4195903c",
   "metadata": {},
   "outputs": [
    {
     "ename": "FileExistsError",
     "evalue": "[WinError 183] Невозможно создать файл, так как он уже существует: 'C:\\\\Users\\\\Валера\\\\DB\\\\1.10.tif' -> 'C:\\\\Users\\\\Валера\\\\DB\\\\2.1.tif'",
     "output_type": "error",
     "traceback": [
      "\u001b[1;31m---------------------------------------------------------------------------\u001b[0m",
      "\u001b[1;31mFileExistsError\u001b[0m                           Traceback (most recent call last)",
      "\u001b[1;32m<ipython-input-7-028cd50cbee2>\u001b[0m in \u001b[0;36m<module>\u001b[1;34m\u001b[0m\n\u001b[0;32m     11\u001b[0m     \u001b[1;32melse\u001b[0m\u001b[1;33m:\u001b[0m\u001b[1;33m\u001b[0m\u001b[1;33m\u001b[0m\u001b[0m\n\u001b[0;32m     12\u001b[0m         \u001b[0mnewname\u001b[0m \u001b[1;33m=\u001b[0m \u001b[0mpath\u001b[0m \u001b[1;33m+\u001b[0m \u001b[1;34m'\\\\'\u001b[0m \u001b[1;33m+\u001b[0m \u001b[1;34mf'2.{p}'\u001b[0m \u001b[1;33m+\u001b[0m \u001b[1;34m'.tif'\u001b[0m\u001b[1;33m\u001b[0m\u001b[1;33m\u001b[0m\u001b[0m\n\u001b[1;32m---> 13\u001b[1;33m         \u001b[0mos\u001b[0m\u001b[1;33m.\u001b[0m\u001b[0mrename\u001b[0m\u001b[1;33m(\u001b[0m\u001b[0moldname\u001b[0m\u001b[1;33m,\u001b[0m \u001b[0mnewname\u001b[0m\u001b[1;33m)\u001b[0m\u001b[1;33m\u001b[0m\u001b[1;33m\u001b[0m\u001b[0m\n\u001b[0m\u001b[0;32m     14\u001b[0m         \u001b[0mp\u001b[0m \u001b[1;33m+=\u001b[0m \u001b[1;36m1\u001b[0m\u001b[1;33m\u001b[0m\u001b[1;33m\u001b[0m\u001b[0m\n\u001b[0;32m     15\u001b[0m     \u001b[0mn\u001b[0m \u001b[1;33m+=\u001b[0m \u001b[1;36m1\u001b[0m\u001b[1;33m\u001b[0m\u001b[1;33m\u001b[0m\u001b[0m\n",
      "\u001b[1;31mFileExistsError\u001b[0m: [WinError 183] Невозможно создать файл, так как он уже существует: 'C:\\\\Users\\\\Валера\\\\DB\\\\1.10.tif' -> 'C:\\\\Users\\\\Валера\\\\DB\\\\2.1.tif'"
     ]
    }
   ],
   "source": [
    "path = 'C:\\\\Users\\\\Валера\\\\DB'\n",
    "list_ = os.listdir(path)\n",
    "n = 0\n",
    "p = 1\n",
    "length = len(list_)\n",
    "for i in range(length):\n",
    "    oldname = path + '\\\\' + list_[n]\n",
    "    if i % 2 == 0:\n",
    "        newname = path + '\\\\' + f'1.{p}' + '.tif'\n",
    "        os.rename(oldname, newname)\n",
    "    else:\n",
    "        newname = path + '\\\\' + f'2.{p}' + '.tif'\n",
    "        os.rename(oldname, newname)\n",
    "        p += 1\n",
    "    n += 1"
   ]
  },
  {
   "cell_type": "code",
   "execution_count": 9,
   "id": "3a13dfc2",
   "metadata": {},
   "outputs": [],
   "source": [
    "path = 'C:\\\\Users\\\\Валера\\\\DB'\n",
    "list_ = os.listdir(path)\n",
    "length = len(list_)\n",
    "for i in range(int(length/2)):\n",
    "    i += 1\n",
    "    \n",
    "    image = cv2.imread(f'DB\\\\2.{i}.tif')\n",
    "    imagergb = cv2.medianBlur(image,3)\n",
    "    lower_bound = np.array([0, 0, 100])\n",
    "    upper_bound = np.array([0, 0, 255])\n",
    "    imagemask = cv2.inRange(imagergb, lower_bound, upper_bound)\n",
    "    contour,hier = cv2.findContours(imagemask,cv2.RETR_CCOMP,cv2.CHAIN_APPROX_SIMPLE)\n",
    "\n",
    "    for cnt in contour:\n",
    "        cv2.drawContours(imagemask,[cnt],0,255,-1)\n",
    "\n",
    "    #plt.figure(figsize=(30, 30))\n",
    "    #plt.imshow(imagemask)\n",
    "    cv2.imwrite(f'DB/mask.{i}.tif', imagemask)\n",
    "    \n"
   ]
  },
  {
   "cell_type": "code",
   "execution_count": 4,
   "id": "1505df03",
   "metadata": {},
   "outputs": [
    {
     "ename": "SyntaxError",
     "evalue": "unexpected EOF while parsing (<ipython-input-4-6201454b1091>, line 4)",
     "output_type": "error",
     "traceback": [
      "\u001b[1;36m  File \u001b[1;32m\"<ipython-input-4-6201454b1091>\"\u001b[1;36m, line \u001b[1;32m4\u001b[0m\n\u001b[1;33m    \u001b[0m\n\u001b[1;37m    ^\u001b[0m\n\u001b[1;31mSyntaxError\u001b[0m\u001b[1;31m:\u001b[0m unexpected EOF while parsing\n"
     ]
    }
   ],
   "source": [
    "#удаление пустых кадров\n",
    "\n",
    "if np.average(imagemask) < 5:\n",
    "    "
   ]
  },
  {
   "cell_type": "code",
   "execution_count": 6,
   "id": "954e4a7b",
   "metadata": {},
   "outputs": [
    {
     "data": {
      "text/plain": [
       "94"
      ]
     },
     "execution_count": 6,
     "metadata": {},
     "output_type": "execute_result"
    }
   ],
   "source": []
  }
 ],
 "metadata": {
  "kernelspec": {
   "display_name": "Python 3",
   "language": "python",
   "name": "python3"
  },
  "language_info": {
   "codemirror_mode": {
    "name": "ipython",
    "version": 3
   },
   "file_extension": ".py",
   "mimetype": "text/x-python",
   "name": "python",
   "nbconvert_exporter": "python",
   "pygments_lexer": "ipython3",
   "version": "3.8.8"
  }
 },
 "nbformat": 4,
 "nbformat_minor": 5
}
